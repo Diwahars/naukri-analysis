{
 "cells": [
  {
   "cell_type": "markdown",
   "metadata": {},
   "source": [
    "First importing all the required modules."
   ]
  },
  {
   "cell_type": "code",
   "execution_count": 110,
   "metadata": {
    "collapsed": false
   },
   "outputs": [],
   "source": [
    "\n",
    "from pymongo import MongoClient\n",
    "from requests.auth import HTTPProxyAuth\n",
    "from nauk_page import get_data\n",
    "import pandas as pd\n",
    "import seaborn as sns\n",
    "sns.set_style('whitegrid')\n",
    "%matplotlib inline\n",
    "\n"
   ]
  },
  {
   "cell_type": "code",
   "execution_count": 111,
   "metadata": {
    "collapsed": false
   },
   "outputs": [
    {
     "name": "stdout",
     "output_type": "stream",
     "text": [
      "184\n"
     ]
    }
   ],
   "source": [
    "# Getting the data from the database and the converting it into a dataframe is done here.\n",
    "client = MongoClient()\n",
    "db = client['jobs_database']\n",
    "coll = db['naukri_jobs']\n",
    "#coll.drop\n",
    "print(coll.count())\n",
    "\n",
    "cursor = coll.find()\n",
    "df = pd.DataFrame(list(cursor))"
   ]
  },
  {
   "cell_type": "code",
   "execution_count": 112,
   "metadata": {
    "collapsed": false
   },
   "outputs": [
    {
     "name": "stdout",
     "output_type": "stream",
     "text": [
      "   Experience                                                Job   Location  \\\n",
      "0  5 - 10 yrs                Data Scientist / Predictive Analyst      Noida   \n",
      "1   4 - 9 yrs                           Data Scientist (4-9 yrs)  Bengaluru   \n",
      "2  8 - 10 yrs                                     Data Scientist  Bengaluru   \n",
      "3  8 - 13 yrs                               Chief Data Scientist  Delhi NCR   \n",
      "4   4 - 7 yrs  Data Scientist - Optimization Techniques & Ana...     Mumbai   \n",
      "\n",
      "                                        Requirements  \\\n",
      "0  [machine learning, python, R programming, pred...   \n",
      "1  [SQL, Statistical Modeling, SAS, Segmentation,...   \n",
      "2  [Technical Support, Technical Design, Solution...   \n",
      "3  [SQL, Machine Learning, Statistical Analysis, ...   \n",
      "4  [Business Intelligence, Data Management, Data ...   \n",
      "\n",
      "                         Salary                       _id  \n",
      "0  Not Disclosed by Recruiter    58822a7426354e1471f6bba5  \n",
      "1  Not Disclosed by Recruiter    58822a7526354e1471f6bba6  \n",
      "2  Not Disclosed by Recruiter    58822a7526354e1471f6bba7  \n",
      "3  Not Disclosed by Recruiter    58822a7526354e1471f6bba8  \n",
      "4  Not Disclosed by Recruiter    58822a7526354e1471f6bba9  \n"
     ]
    }
   ],
   "source": [
    "print(df.head())"
   ]
  },
  {
   "cell_type": "markdown",
   "metadata": {},
   "source": [
    "# Now I will perform some cleanup of the data from the experience column"
   ]
  },
  {
   "cell_type": "code",
   "execution_count": 113,
   "metadata": {
    "collapsed": true
   },
   "outputs": [],
   "source": [
    "l = df['Experience']"
   ]
  },
  {
   "cell_type": "code",
   "execution_count": 114,
   "metadata": {
    "collapsed": false
   },
   "outputs": [],
   "source": [
    "import re\n",
    "data_in_str = [re.sub(\"[^0-9-]\",\"\",p) for p in l] "
   ]
  },
  {
   "cell_type": "code",
   "execution_count": 115,
   "metadata": {
    "collapsed": false
   },
   "outputs": [],
   "source": [
    "small_list = []\n",
    "exp_list_cleaned = []"
   ]
  },
  {
   "cell_type": "code",
   "execution_count": 116,
   "metadata": {
    "collapsed": false
   },
   "outputs": [],
   "source": [
    "#Code for converting the expeirnce into numbers and storing them as intervals\n",
    "for z in range(len(data_in_str)):\n",
    "    k,j=\"\",\"\"\n",
    "    i = 0\n",
    "    small_list = []\n",
    "    mark = 0\n",
    "    while i<len(data_in_str[z]):\n",
    "        while data_in_str[z][i]!='-' and mark==0:\n",
    "            k = k+data_in_str[z][i]\n",
    "            i = i+1\n",
    "        mark = 1\n",
    "        if(data_in_str[z][i]=='-'):\n",
    "            i = i+1\n",
    "            continue\n",
    "        else:\n",
    "            j = j+data_in_str[z][i]\n",
    "            i = i+1\n",
    "    k = int(k)\n",
    "    j = int(j)\n",
    "    small_list.append(k)\n",
    "    small_list.append(j)\n",
    "    exp_list_cleaned.append(small_list)    "
   ]
  },
  {
   "cell_type": "code",
   "execution_count": 117,
   "metadata": {
    "collapsed": false
   },
   "outputs": [
    {
     "name": "stdout",
     "output_type": "stream",
     "text": [
      "184\n",
      "<class 'list'>\n",
      "[5, 10]\n"
     ]
    }
   ],
   "source": [
    "print(len(exp_list_cleaned))\n",
    "print(type(exp_list_cleaned))\n",
    "print((exp_list_cleaned[0]))"
   ]
  },
  {
   "cell_type": "code",
   "execution_count": 118,
   "metadata": {
    "collapsed": false
   },
   "outputs": [],
   "source": [
    "df['clean_exp'] = exp_list_cleaned"
   ]
  },
  {
   "cell_type": "code",
   "execution_count": 119,
   "metadata": {
    "collapsed": false
   },
   "outputs": [],
   "source": [
    "df['freq_exp'] = df.groupby('Experience')['Experience'].transform('count')"
   ]
  },
  {
   "cell_type": "markdown",
   "metadata": {
    "collapsed": false
   },
   "source": [
    "## We have exp_list_cleaned and also we have frequency. Now we will take averages. "
   ]
  },
  {
   "cell_type": "markdown",
   "metadata": {},
   "source": [
    "What I next do is take the average of all the experience and then group them into 0-2, 2-5, 5-8, 8-13 an >13. "
   ]
  },
  {
   "cell_type": "code",
   "execution_count": 120,
   "metadata": {
    "collapsed": false
   },
   "outputs": [],
   "source": [
    "dic_exp = {}"
   ]
  },
  {
   "cell_type": "code",
   "execution_count": 121,
   "metadata": {
    "collapsed": false
   },
   "outputs": [],
   "source": [
    "for i in range(len(df)):\n",
    "    tup = tuple(exp_list_cleaned[i])\n",
    "    freq = df['freq_exp'][i]\n",
    "    dic_exp.update({tup:freq})"
   ]
  },
  {
   "cell_type": "code",
   "execution_count": 122,
   "metadata": {
    "collapsed": false
   },
   "outputs": [
    {
     "name": "stdout",
     "output_type": "stream",
     "text": [
      "36\n",
      "{(11, 16): 2, (5, 9): 2, (4, 7): 4, (1, 3): 4, (8, 13): 10, (7, 10): 2, (4, 8): 4, (7, 12): 4, (1, 4): 2, (10, 12): 2, (2, 6): 4, (2, 3): 4, (3, 7): 2, (5, 10): 18, (2, 5): 14, (0, 3): 2, (5, 8): 10, (3, 5): 8, (2, 7): 10, (4, 9): 6, (6, 8): 2, (8, 12): 2, (10, 16): 2, (6, 10): 2, (5, 7): 4, (8, 10): 4, (1, 6): 2, (10, 18): 2, (3, 8): 14, (6, 11): 10, (3, 6): 4, (4, 5): 2, (1, 5): 6, (13, 20): 2, (3, 4): 2, (2, 4): 10}\n"
     ]
    }
   ],
   "source": [
    "print(len(dic_exp))\n",
    "print(dic_exp)"
   ]
  },
  {
   "cell_type": "code",
   "execution_count": 123,
   "metadata": {
    "collapsed": false
   },
   "outputs": [
    {
     "name": "stdout",
     "output_type": "stream",
     "text": [
      "dict_keys([(11, 16), (5, 9), (4, 7), (1, 3), (8, 13), (7, 10), (4, 8), (7, 12), (1, 4), (10, 12), (2, 6), (2, 3), (3, 7), (5, 10), (2, 5), (0, 3), (5, 8), (3, 5), (2, 7), (4, 9), (6, 8), (8, 12), (10, 16), (6, 10), (5, 7), (8, 10), (1, 6), (10, 18), (3, 8), (6, 11), (3, 6), (4, 5), (1, 5), (13, 20), (3, 4), (2, 4)])\n"
     ]
    }
   ],
   "source": [
    "print(dic_exp.keys())\n",
    "list_keys = list(dic_exp.keys())"
   ]
  },
  {
   "cell_type": "code",
   "execution_count": 124,
   "metadata": {
    "collapsed": false
   },
   "outputs": [],
   "source": [
    "list_freq = list(dic_exp.values())\n"
   ]
  },
  {
   "cell_type": "code",
   "execution_count": 125,
   "metadata": {
    "collapsed": false
   },
   "outputs": [],
   "source": [
    "avg = [int((l[0]+l[1])/2) for l in list_keys]\n"
   ]
  },
  {
   "cell_type": "code",
   "execution_count": 126,
   "metadata": {
    "collapsed": false
   },
   "outputs": [
    {
     "name": "stdout",
     "output_type": "stream",
     "text": [
      "12 92 80 40 8\n"
     ]
    }
   ],
   "source": [
    "#0-2, 2-5, 5-8, 8-13, 13-20\n",
    "#The above are the ranges in which the groups will be divided.\n",
    "\n",
    "range1 , range2, range3, range4, range5 = 0, 0, 0, 0, 0\n",
    "for i in range(len(avg)):\n",
    "    if avg[i]>=0 and avg[i]<=2:\n",
    "        range1 = range1 + list_freq[i]\n",
    "    if avg[i]>=2 and avg[i]<=5:\n",
    "        range2 = range2 + list_freq[i]\n",
    "    if avg[i]>=5 and avg[i]<=8:\n",
    "        range3 = range3 + list_freq[i]\n",
    "    if avg[i]>=8 and avg[i]<=13:\n",
    "        range4 = range4 + list_freq[i]\n",
    "    if avg[i]>=13:\n",
    "        range5 = range5 + list_freq[i]\n",
    "        \n",
    "print(range1, range2, range3, range4, range5)"
   ]
  },
  {
   "cell_type": "code",
   "execution_count": 127,
   "metadata": {
    "collapsed": true
   },
   "outputs": [],
   "source": [
    "y_exp = []\n",
    "y_exp.append(range1), y_exp.append(range2), y_exp.append(range3), y_exp.append(range4)\n",
    "y_exp.append(range5)"
   ]
  },
  {
   "cell_type": "code",
   "execution_count": 128,
   "metadata": {
    "collapsed": false
   },
   "outputs": [],
   "source": [
    "name_list = [\"0-2\",\"2-5\",\"5-8\",\"8-13\",\">13\"]\n",
    "p = [i for i in range(len(y_exp))]"
   ]
  },
  {
   "cell_type": "code",
   "execution_count": 129,
   "metadata": {
    "collapsed": false
   },
   "outputs": [
    {
     "data": {
      "image/png": "[encoded data removed]",
      "text/plain": [
       "<matplotlib.figure.Figure at 0x7fe23b11fc18>"
      ]
     },
     "metadata": {},
     "output_type": "display_data"
    }
   ],
   "source": [
    "import matplotlib.pyplot as plt\n",
    "x = plt.bar(p, y_exp, align='center', alpha = 0.5)\n",
    "plt.xticks(p, name_list)\n",
    "plt.xlabel('Average Experience')\n",
    "plt.ylabel('No. of jobs')\n",
    "plt.show()"
   ]
  },
  {
   "cell_type": "code",
   "execution_count": 28,
   "metadata": {
    "collapsed": false
   },
   "outputs": [
    {
     "data": {
      "image/png": "[encoded data removed]",
      "text/plain": [
       "<matplotlib.figure.Figure at 0x7fe23afb96a0>"
      ]
     },
     "metadata": {},
     "output_type": "display_data"
    }
   ],
   "source": [
    "#Below is the code for creating the bar chart of the data according to experience\n",
    "#labels = name_list\n",
    "#sizes = y_exp\n",
    "colors = ['gold', 'yellowgreen', 'lightcoral', 'lightskyblue', 'pink']\n",
    "plt.pie(y_exp, labels=name_list, colors=colors,  autopct='%1.1f%%')\n",
    "plt.axis('equal')\n",
    "plt.show()"
   ]
  },
  {
   "cell_type": "code",
   "execution_count": 29,
   "metadata": {
    "collapsed": false
   },
   "outputs": [
    {
     "data": {
      "text/html": [
       "<div>\n",
       "<table border=\"1\" class=\"dataframe\">\n",
       "  <thead>\n",
       "    <tr style=\"text-align: right;\">\n",
       "      <th></th>\n",
       "      <th>Experience</th>\n",
       "      <th>Job</th>\n",
       "      <th>Location</th>\n",
       "      <th>Requirements</th>\n",
       "      <th>Salary</th>\n",
       "      <th>_id</th>\n",
       "      <th>clean_exp</th>\n",
       "      <th>freq_exp</th>\n",
       "    </tr>\n",
       "  </thead>\n",
       "  <tbody>\n",
       "    <tr>\n",
       "      <th>0</th>\n",
       "      <td>5 - 10 yrs</td>\n",
       "      <td>Data Scientist / Predictive Analyst</td>\n",
       "      <td>Noida</td>\n",
       "      <td>[machine learning, python, R programming, pred...</td>\n",
       "      <td>Not Disclosed by Recruiter</td>\n",
       "      <td>58822a7426354e1471f6bba5</td>\n",
       "      <td>[5, 10]</td>\n",
       "      <td>18</td>\n",
       "    </tr>\n",
       "    <tr>\n",
       "      <th>1</th>\n",
       "      <td>4 - 9 yrs</td>\n",
       "      <td>Data Scientist (4-9 yrs)</td>\n",
       "      <td>Bengaluru</td>\n",
       "      <td>[SQL, Statistical Modeling, SAS, Segmentation,...</td>\n",
       "      <td>Not Disclosed by Recruiter</td>\n",
       "      <td>58822a7526354e1471f6bba6</td>\n",
       "      <td>[4, 9]</td>\n",
       "      <td>6</td>\n",
       "    </tr>\n",
       "    <tr>\n",
       "      <th>2</th>\n",
       "      <td>8 - 10 yrs</td>\n",
       "      <td>Data Scientist</td>\n",
       "      <td>Bengaluru</td>\n",
       "      <td>[Technical Support, Technical Design, Solution...</td>\n",
       "      <td>Not Disclosed by Recruiter</td>\n",
       "      <td>58822a7526354e1471f6bba7</td>\n",
       "      <td>[8, 10]</td>\n",
       "      <td>4</td>\n",
       "    </tr>\n",
       "    <tr>\n",
       "      <th>3</th>\n",
       "      <td>8 - 13 yrs</td>\n",
       "      <td>Chief Data Scientist</td>\n",
       "      <td>Delhi NCR</td>\n",
       "      <td>[SQL, Machine Learning, Statistical Analysis, ...</td>\n",
       "      <td>Not Disclosed by Recruiter</td>\n",
       "      <td>58822a7526354e1471f6bba8</td>\n",
       "      <td>[8, 13]</td>\n",
       "      <td>10</td>\n",
       "    </tr>\n",
       "    <tr>\n",
       "      <th>4</th>\n",
       "      <td>4 - 7 yrs</td>\n",
       "      <td>Data Scientist - Optimization Techniques &amp; Ana...</td>\n",
       "      <td>Mumbai</td>\n",
       "      <td>[Business Intelligence, Data Management, Data ...</td>\n",
       "      <td>Not Disclosed by Recruiter</td>\n",
       "      <td>58822a7526354e1471f6bba9</td>\n",
       "      <td>[4, 7]</td>\n",
       "      <td>4</td>\n",
       "    </tr>\n",
       "  </tbody>\n",
       "</table>\n",
       "</div>"
      ],
      "text/plain": [
       "   Experience                                                Job   Location  \\\n",
       "0  5 - 10 yrs                Data Scientist / Predictive Analyst      Noida   \n",
       "1   4 - 9 yrs                           Data Scientist (4-9 yrs)  Bengaluru   \n",
       "2  8 - 10 yrs                                     Data Scientist  Bengaluru   \n",
       "3  8 - 13 yrs                               Chief Data Scientist  Delhi NCR   \n",
       "4   4 - 7 yrs  Data Scientist - Optimization Techniques & Ana...     Mumbai   \n",
       "\n",
       "                                        Requirements  \\\n",
       "0  [machine learning, python, R programming, pred...   \n",
       "1  [SQL, Statistical Modeling, SAS, Segmentation,...   \n",
       "2  [Technical Support, Technical Design, Solution...   \n",
       "3  [SQL, Machine Learning, Statistical Analysis, ...   \n",
       "4  [Business Intelligence, Data Management, Data ...   \n",
       "\n",
       "                         Salary                       _id clean_exp  freq_exp  \n",
       "0  Not Disclosed by Recruiter    58822a7426354e1471f6bba5   [5, 10]        18  \n",
       "1  Not Disclosed by Recruiter    58822a7526354e1471f6bba6    [4, 9]         6  \n",
       "2  Not Disclosed by Recruiter    58822a7526354e1471f6bba7   [8, 10]         4  \n",
       "3  Not Disclosed by Recruiter    58822a7526354e1471f6bba8   [8, 13]        10  \n",
       "4  Not Disclosed by Recruiter    58822a7526354e1471f6bba9    [4, 7]         4  "
      ]
     },
     "execution_count": 29,
     "metadata": {},
     "output_type": "execute_result"
    }
   ],
   "source": [
    "df.head()"
   ]
  },
  {
   "cell_type": "code",
   "execution_count": 30,
   "metadata": {
    "collapsed": true
   },
   "outputs": [],
   "source": [
    "del df['freq_exp']\n",
    "del df['clean_exp']"
   ]
  },
  {
   "cell_type": "code",
   "execution_count": 31,
   "metadata": {
    "collapsed": false
   },
   "outputs": [
    {
     "data": {
      "text/html": [
       "<div>\n",
       "<table border=\"1\" class=\"dataframe\">\n",
       "  <thead>\n",
       "    <tr style=\"text-align: right;\">\n",
       "      <th></th>\n",
       "      <th>Experience</th>\n",
       "      <th>Job</th>\n",
       "      <th>Location</th>\n",
       "      <th>Requirements</th>\n",
       "      <th>Salary</th>\n",
       "      <th>_id</th>\n",
       "    </tr>\n",
       "  </thead>\n",
       "  <tbody>\n",
       "    <tr>\n",
       "      <th>0</th>\n",
       "      <td>5 - 10 yrs</td>\n",
       "      <td>Data Scientist / Predictive Analyst</td>\n",
       "      <td>Noida</td>\n",
       "      <td>[machine learning, python, R programming, pred...</td>\n",
       "      <td>Not Disclosed by Recruiter</td>\n",
       "      <td>58822a7426354e1471f6bba5</td>\n",
       "    </tr>\n",
       "    <tr>\n",
       "      <th>1</th>\n",
       "      <td>4 - 9 yrs</td>\n",
       "      <td>Data Scientist (4-9 yrs)</td>\n",
       "      <td>Bengaluru</td>\n",
       "      <td>[SQL, Statistical Modeling, SAS, Segmentation,...</td>\n",
       "      <td>Not Disclosed by Recruiter</td>\n",
       "      <td>58822a7526354e1471f6bba6</td>\n",
       "    </tr>\n",
       "    <tr>\n",
       "      <th>2</th>\n",
       "      <td>8 - 10 yrs</td>\n",
       "      <td>Data Scientist</td>\n",
       "      <td>Bengaluru</td>\n",
       "      <td>[Technical Support, Technical Design, Solution...</td>\n",
       "      <td>Not Disclosed by Recruiter</td>\n",
       "      <td>58822a7526354e1471f6bba7</td>\n",
       "    </tr>\n",
       "    <tr>\n",
       "      <th>3</th>\n",
       "      <td>8 - 13 yrs</td>\n",
       "      <td>Chief Data Scientist</td>\n",
       "      <td>Delhi NCR</td>\n",
       "      <td>[SQL, Machine Learning, Statistical Analysis, ...</td>\n",
       "      <td>Not Disclosed by Recruiter</td>\n",
       "      <td>58822a7526354e1471f6bba8</td>\n",
       "    </tr>\n",
       "    <tr>\n",
       "      <th>4</th>\n",
       "      <td>4 - 7 yrs</td>\n",
       "      <td>Data Scientist - Optimization Techniques &amp; Ana...</td>\n",
       "      <td>Mumbai</td>\n",
       "      <td>[Business Intelligence, Data Management, Data ...</td>\n",
       "      <td>Not Disclosed by Recruiter</td>\n",
       "      <td>58822a7526354e1471f6bba9</td>\n",
       "    </tr>\n",
       "  </tbody>\n",
       "</table>\n",
       "</div>"
      ],
      "text/plain": [
       "   Experience                                                Job   Location  \\\n",
       "0  5 - 10 yrs                Data Scientist / Predictive Analyst      Noida   \n",
       "1   4 - 9 yrs                           Data Scientist (4-9 yrs)  Bengaluru   \n",
       "2  8 - 10 yrs                                     Data Scientist  Bengaluru   \n",
       "3  8 - 13 yrs                               Chief Data Scientist  Delhi NCR   \n",
       "4   4 - 7 yrs  Data Scientist - Optimization Techniques & Ana...     Mumbai   \n",
       "\n",
       "                                        Requirements  \\\n",
       "0  [machine learning, python, R programming, pred...   \n",
       "1  [SQL, Statistical Modeling, SAS, Segmentation,...   \n",
       "2  [Technical Support, Technical Design, Solution...   \n",
       "3  [SQL, Machine Learning, Statistical Analysis, ...   \n",
       "4  [Business Intelligence, Data Management, Data ...   \n",
       "\n",
       "                         Salary                       _id  \n",
       "0  Not Disclosed by Recruiter    58822a7426354e1471f6bba5  \n",
       "1  Not Disclosed by Recruiter    58822a7526354e1471f6bba6  \n",
       "2  Not Disclosed by Recruiter    58822a7526354e1471f6bba7  \n",
       "3  Not Disclosed by Recruiter    58822a7526354e1471f6bba8  \n",
       "4  Not Disclosed by Recruiter    58822a7526354e1471f6bba9  "
      ]
     },
     "execution_count": 31,
     "metadata": {},
     "output_type": "execute_result"
    }
   ],
   "source": [
    "df.head()"
   ]
  },
  {
   "cell_type": "markdown",
   "metadata": {},
   "source": [
    "# Now the analysis based on location will be done. We will not do analysis based on salary because most of the fields in it are null."
   ]
  },
  {
   "cell_type": "code",
   "execution_count": 34,
   "metadata": {
    "collapsed": true
   },
   "outputs": [],
   "source": [
    "loc_list_new = list(dick_location.keys())\n",
    "loc_freq_new = list(dick_location.values())"
   ]
  },
  {
   "cell_type": "markdown",
   "metadata": {},
   "source": [
    "Now I will just show the top 8 cities in the plot whihc have the most jobs.\n",
    "So for that first I will sort the dictionary accorsing to the value and then take top 8 amd then plot them."
   ]
  },
  {
   "cell_type": "code",
   "execution_count": 96,
   "metadata": {
    "collapsed": true
   },
   "outputs": [],
   "source": [
    "import operator\n",
    "sorted_dick = sorted(dick_location.items(), key = operator.itemgetter(1), reverse=True)"
   ]
  },
  {
   "cell_type": "code",
   "execution_count": 97,
   "metadata": {
    "collapsed": false
   },
   "outputs": [],
   "source": [
    "def get_top_n(sorted_dictionary, n, list_key, list_val):\n",
    "    for i in range(n):\n",
    "        list_key.append(sorted_dictionary[i][0])\n",
    "    for i in range(n):\n",
    "        list_val.append(sorted_dictionary[i][1])\n",
    "    return list_key, list_val"
   ]
  },
  {
   "cell_type": "code",
   "execution_count": 98,
   "metadata": {
    "collapsed": false
   },
   "outputs": [],
   "source": [
    "list_key = []\n",
    "list_val = []\n",
    "loc_key, loc_val = get_top_n(sorted_dick, 8, list_key, list_val)"
   ]
  },
  {
   "cell_type": "code",
   "execution_count": 108,
   "metadata": {
    "collapsed": false
   },
   "outputs": [
    {
     "data": {
      "image/png": "[encoded data removed]",
      "text/plain": [
       "<matplotlib.figure.Figure at 0x7fe23b290588>"
      ]
     },
     "metadata": {},
     "output_type": "display_data"
    }
   ],
   "source": [
    "plt.figure(figsize = (13,4))\n",
    "p = [i for i in range(len(loc_key))]\n",
    "x = plt.bar(p, loc_val, align='center', alpha = 0.5)\n",
    "plt.xticks(p, loc_key)\n",
    "plt.xlabel('Location')\n",
    "plt.ylabel('No of jobs')\n",
    "plt.show()"
   ]
  },
  {
   "cell_type": "markdown",
   "metadata": {},
   "source": [
    "# Now I will find what are the most frequent requirements in this job and perform some analysis on it.\n",
    "\n"
   ]
  },
  {
   "cell_type": "markdown",
   "metadata": {},
   "source": [
    "Default dict data structure is used here. It is basically used to count the frequencies of items.\n",
    "I will use this to count the frequencies of the requiremsnts"
   ]
  },
  {
   "cell_type": "code",
   "execution_count": 103,
   "metadata": {
    "collapsed": false
   },
   "outputs": [],
   "source": [
    "x = list(df['Requirements'])\n",
    "from collections import defaultdict\n",
    "dic = defaultdict(int)\n",
    "\n",
    "for i in range(len(x)):\n",
    "    for req in x[i]:\n",
    "        dic[req] += 1"
   ]
  },
  {
   "cell_type": "code",
   "execution_count": 104,
   "metadata": {
    "collapsed": false
   },
   "outputs": [],
   "source": [
    "req_sorted = sorted(dic.items(), key = operator.itemgetter(1), reverse=True)"
   ]
  },
  {
   "cell_type": "code",
   "execution_count": 105,
   "metadata": {
    "collapsed": false
   },
   "outputs": [],
   "source": [
    "key_req = []\n",
    "val_req = []\n",
    "\n",
    "key_req, val_req = get_top_n(req_sorted, 10, key_req, val_req)"
   ]
  },
  {
   "cell_type": "code",
   "execution_count": 107,
   "metadata": {
    "collapsed": false
   },
   "outputs": [
    {
     "data": {
      "image/png": "[encoded data removed]",
      "text/plain": [
       "<matplotlib.figure.Figure at 0x7fe2392cd5c0>"
      ]
     },
     "metadata": {},
     "output_type": "display_data"
    }
   ],
   "source": [
    "plt.figure(figsize = (13,4))\n",
    "p = [i for i in range(len(key_req))]\n",
    "x = plt.bar(p, val_req, align = 'center' , alpha = 0.5)\n",
    "plt.xticks(p, key_req)\n",
    "plt.xlabel('Skills')\n",
    "plt.ylabel('Number of jobs')\n",
    "plt.show()"
   ]
  },
  {
   "cell_type": "code",
   "execution_count": null,
   "metadata": {
    "collapsed": true
   },
   "outputs": [],
   "source": []
  }
 ],
 "metadata": {
  "anaconda-cloud": {},
  "kernelspec": {
   "display_name": "Python [conda root]",
   "language": "python",
   "name": "conda-root-py"
  },
  "language_info": {
   "codemirror_mode": {
    "name": "ipython",
    "version": 3
   },
   "file_extension": ".py",
   "mimetype": "text/x-python",
   "name": "python",
   "nbconvert_exporter": "python",
   "pygments_lexer": "ipython3",
   "version": "3.5.2"
  }
 },
 "nbformat": 4,
 "nbformat_minor": 1
}
